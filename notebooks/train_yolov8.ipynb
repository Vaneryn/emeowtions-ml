{
  "cells": [
    {
      "cell_type": "markdown",
      "source": [
        "# Installation"
      ],
      "metadata": {
        "id": "ub4WpLl778Or"
      }
    },
    {
      "cell_type": "markdown",
      "source": [
        "Install Ultralytics library using pip"
      ],
      "metadata": {
        "id": "V8MRvd4p81nr"
      }
    },
    {
      "cell_type": "code",
      "source": [
        "!pip install ultralytics"
      ],
      "metadata": {
        "collapsed": true,
        "id": "Io7sCMLi7szh"
      },
      "execution_count": null,
      "outputs": []
    },
    {
      "cell_type": "markdown",
      "source": [
        "Verify Ultralytics installation"
      ],
      "metadata": {
        "id": "Zcr9ELHn8tEs"
      }
    },
    {
      "cell_type": "code",
      "source": [
        "import ultralytics\n",
        "ultralytics.checks()"
      ],
      "metadata": {
        "id": "ERhBldGz8_w6"
      },
      "execution_count": null,
      "outputs": []
    },
    {
      "cell_type": "markdown",
      "source": [
        "Import YOLOv8"
      ],
      "metadata": {
        "id": "wWHfDnMT_ejj"
      }
    },
    {
      "cell_type": "code",
      "source": [
        "from IPython.display import display, Image\n",
        "from IPython import display\n",
        "from ultralytics import YOLO\n",
        "import os\n",
        "\n",
        "display.clear_output()\n",
        "!yolo checks"
      ],
      "metadata": {
        "id": "uZM6uLPi_dyn"
      },
      "execution_count": null,
      "outputs": []
    },
    {
      "cell_type": "markdown",
      "source": [
        "# Test Predict Mode in YOLOv8 Variants"
      ],
      "metadata": {
        "id": "4dkdKk6d9Shq"
      }
    },
    {
      "cell_type": "code",
      "source": [
        "yolov8n = YOLO('models/yolov8n.pt')\n",
        "\n",
        "results = yolov8n.predict(source='images/black-cat-back.jpg', conf=0.25, classes=[15], save=True)\n",
        "results = yolov8n.predict(source='images/two-cats-garden.jpg', conf=0.25, classes=[15], save=True)"
      ],
      "metadata": {
        "id": "ZNkVjM0V-U91"
      },
      "execution_count": null,
      "outputs": []
    },
    {
      "cell_type": "code",
      "source": [
        "yolov8s = YOLO('models/yolov8s.pt')\n",
        "\n",
        "results = yolov8s.predict(source='images/black-cat-back.jpg', conf=0.25, classes=[15], save=True)\n",
        "results = yolov8s.predict(source='images/two-cats-garden.jpg', conf=0.25, classes=[15], save=True)"
      ],
      "metadata": {
        "id": "h2aXXAl5L92l"
      },
      "execution_count": null,
      "outputs": []
    },
    {
      "cell_type": "code",
      "source": [
        "yolov8m = YOLO('models/yolov8m.pt')\n",
        "\n",
        "results = yolov8m.predict(source='images/black-cat-back.jpg', conf=0.25, classes=[15], save=True)\n",
        "results = yolov8m.predict(source='images/two-cats-garden.jpg', conf=0.25, classes=[15], save=True)"
      ],
      "metadata": {
        "id": "zsJiFIfRL9sv"
      },
      "execution_count": null,
      "outputs": []
    },
    {
      "cell_type": "code",
      "source": [
        "yolov8l = YOLO('models/yolov8l.pt')\n",
        "\n",
        "results = yolov8l.predict(source='images/black-cat-back.jpg', conf=0.25, classes=[15], save=True)\n",
        "results = yolov8l.predict(source='images/two-cats-garden.jpg', conf=0.25, classes=[15], save=True)"
      ],
      "metadata": {
        "id": "pi0B-e_9L9jt"
      },
      "execution_count": null,
      "outputs": []
    },
    {
      "cell_type": "code",
      "source": [
        "yolov8x = YOLO('models/yolov8x.pt')\n",
        "\n",
        "results = yolov8x.predict(source='images/black-cat-back.jpg', conf=0.25, classes=[15], save=True)\n",
        "results = yolov8x.predict(source='images/two-cats-garden.jpg', conf=0.25, classes=[15], save=True)"
      ],
      "metadata": {
        "id": "fodjI9D6L9Zd"
      },
      "execution_count": null,
      "outputs": []
    },
    {
      "cell_type": "markdown",
      "source": [
        "# Training"
      ],
      "metadata": {
        "id": "V55YttebDsN1"
      }
    }
  ],
  "metadata": {
    "language_info": {
      "name": "python"
    },
    "colab": {
      "provenance": [],
      "gpuType": "T4"
    },
    "accelerator": "GPU",
    "kernelspec": {
      "name": "python3",
      "display_name": "Python 3"
    }
  },
  "nbformat": 4,
  "nbformat_minor": 0
}