{
 "cells": [
  {
   "cell_type": "markdown",
   "metadata": {},
   "source": [
    "# Install Ultralytics\n",
    "Only if running on Google Colab. Otherwise, use pip to install from requirements.txt\n"
   ]
  },
  {
   "cell_type": "code",
   "execution_count": null,
   "metadata": {},
   "outputs": [],
   "source": [
    "%pip install ultralytics"
   ]
  },
  {
   "cell_type": "markdown",
   "metadata": {
    "id": "ub4WpLl778Or"
   },
   "source": [
    "# Import Libraries"
   ]
  },
  {
   "cell_type": "markdown",
   "metadata": {},
   "source": [
    "Verify Pytorch version and CUDA compatibility"
   ]
  },
  {
   "cell_type": "code",
   "execution_count": 1,
   "metadata": {},
   "outputs": [
    {
     "name": "stdout",
     "output_type": "stream",
     "text": [
      "2.4.0+cu124\n"
     ]
    },
    {
     "data": {
      "text/plain": [
       "True"
      ]
     },
     "execution_count": 1,
     "metadata": {},
     "output_type": "execute_result"
    }
   ],
   "source": [
    "import torch\n",
    "print(torch.__version__)\n",
    "torch.cuda.is_available()"
   ]
  },
  {
   "cell_type": "markdown",
   "metadata": {},
   "source": [
    "Verify Ultralytics installation"
   ]
  },
  {
   "cell_type": "code",
   "execution_count": 2,
   "metadata": {},
   "outputs": [
    {
     "name": "stdout",
     "output_type": "stream",
     "text": [
      "Ultralytics YOLOv8.2.84  Python-3.12.4 torch-2.4.0+cu124 CUDA:0 (NVIDIA GeForce MX230, 2048MiB)\n",
      "Setup complete  (8 CPUs, 7.8 GB RAM, 206.4/220.1 GB disk)\n"
     ]
    }
   ],
   "source": [
    "import ultralytics\n",
    "ultralytics.checks()"
   ]
  },
  {
   "cell_type": "markdown",
   "metadata": {},
   "source": [
    "Import YOLO and other libraries"
   ]
  },
  {
   "cell_type": "code",
   "execution_count": 4,
   "metadata": {
    "id": "uZM6uLPi_dyn"
   },
   "outputs": [],
   "source": [
    "from IPython import display\n",
    "from ultralytics import YOLO\n",
    "import os\n",
    "import pandas as pd\n",
    "\n",
    "# Set project directory paths\n",
    "root = '..'\n",
    "data_dir = f'{root}/data'\n",
    "image_dir = f'{data_dir}/external/extra'\n",
    "models_dir = f'{root}/models'"
   ]
  },
  {
   "cell_type": "markdown",
   "metadata": {
    "id": "4dkdKk6d9Shq"
   },
   "source": [
    "# Evaluation"
   ]
  },
  {
   "cell_type": "markdown",
   "metadata": {},
   "source": [
    "Helper functions"
   ]
  },
  {
   "cell_type": "code",
   "execution_count": 5,
   "metadata": {},
   "outputs": [],
   "source": [
    "def run_predictions(image_dir, model_src, conf=0.5, classes=None):\n",
    "    # Load model\n",
    "    model = YOLO(model_src)\n",
    "\n",
    "    # Initialize list to store results\n",
    "    results_list = []\n",
    "\n",
    "    # Iterate over all images\n",
    "    for filename in os.listdir(image_dir):\n",
    "        if filename.endswith(('.jpg', '.jpeg', '.png')):\n",
    "            # Path to image\n",
    "            image_path = os.path.join(image_dir, filename)\n",
    "            \n",
    "            # Run model inference\n",
    "            results = model.predict(source=image_path, conf=conf, classes=classes)\n",
    "            \n",
    "            # Extract results\n",
    "            for result in results:\n",
    "                bboxes = result.boxes\n",
    "\n",
    "                if bboxes:\n",
    "                    for box in bboxes:\n",
    "                        result_conf = float(box.conf[0].item())\n",
    "                        x1, y1, x2, y2 = map(int, box.xyxy[0])\n",
    "                        \n",
    "                        results_list.append({\n",
    "                            'filename': filename,\n",
    "                            'confidence': result_conf,\n",
    "                            'x1': x1,\n",
    "                            'y1': y1,\n",
    "                            'x2': x2,\n",
    "                            'y2': y2\n",
    "                        })\n",
    "                else:\n",
    "                    results_list.append({\n",
    "                        'filename': filename,\n",
    "                        'confidence': 0,\n",
    "                        'x1': 0,\n",
    "                        'y1': 0,\n",
    "                        'x2': 0,\n",
    "                        'y2': 0\n",
    "                    })\n",
    "\n",
    "    df_results = pd.DataFrame(results_list)\n",
    "\n",
    "    display.clear_output()\n",
    "    print(df_results)\n",
    "    print()\n",
    "    print(df_results.describe())"
   ]
  },
  {
   "cell_type": "markdown",
   "metadata": {},
   "source": [
    "Run predict mode on a set of images to test performance on real-world images"
   ]
  },
  {
   "cell_type": "code",
   "execution_count": 20,
   "metadata": {},
   "outputs": [
    {
     "name": "stdout",
     "output_type": "stream",
     "text": [
      "     filename  confidence   x1    y1    x2    y2\n",
      "0  calico.jpg    0.835338    6  1190  2589  4097\n",
      "1   mimi1.jpg    0.000000    0     0     0     0\n",
      "2   mimi2.jpg    0.784263    1   378  3663  5353\n",
      "3   mimi3.jpg    0.000000    0     0     0     0\n",
      "4   oyen1.jpg    0.623528  850   367  3070  3367\n",
      "5   oyen2.jpg    0.747517    3  1870  3152  4547\n",
      "\n",
      "       confidence          x1           y1           x2           y2\n",
      "count    6.000000    6.000000     6.000000     6.000000     6.000000\n",
      "mean     0.498441  143.333333   634.166667  2079.000000  2894.000000\n",
      "std      0.392369  346.202060   745.327959  1646.028432  2332.402195\n",
      "min      0.000000    0.000000     0.000000     0.000000     0.000000\n",
      "25%      0.155882    0.250000    91.750000   647.250000   841.750000\n",
      "50%      0.685522    2.000000   372.500000  2829.500000  3732.000000\n",
      "75%      0.775076    5.250000   987.000000  3131.500000  4434.500000\n",
      "max      0.835338  850.000000  1870.000000  3663.000000  5353.000000\n"
     ]
    }
   ],
   "source": [
    "# YOLOv5n\n",
    "run_predictions(image_dir, f'{models_dir}/yolov5nu.pt', 0.5, [15])"
   ]
  },
  {
   "cell_type": "code",
   "execution_count": 18,
   "metadata": {},
   "outputs": [
    {
     "name": "stdout",
     "output_type": "stream",
     "text": [
      "     filename  confidence   x1    y1    x2    y2\n",
      "0  calico.jpg    0.933453    1  1293  2576  4113\n",
      "1   mimi1.jpg    0.875679   10  3974  2886  5627\n",
      "2   mimi1.jpg    0.594768   21  1554  2775  4601\n",
      "3   mimi2.jpg    0.917693    7   417  3445  5632\n",
      "4   mimi3.jpg    0.000000    0     0     0     0\n",
      "5   oyen1.jpg    0.876208  804   393  3081  3343\n",
      "6   oyen2.jpg    0.897574    6  1867  3224  5236\n",
      "\n",
      "       confidence          x1           y1           x2           y2\n",
      "count    7.000000    7.000000     7.000000     7.000000     7.000000\n",
      "mean     0.727911  121.285714  1356.857143  2569.571429  4078.857143\n",
      "std      0.341189  301.128829  1342.015826  1169.136271  1983.277542\n",
      "min      0.000000    0.000000     0.000000     0.000000     0.000000\n",
      "25%      0.735224    3.500000   405.000000  2675.500000  3728.000000\n",
      "50%      0.876208    7.000000  1293.000000  2886.000000  4601.000000\n",
      "75%      0.907633   15.500000  1710.500000  3152.500000  5431.500000\n",
      "max      0.933453  804.000000  3974.000000  3445.000000  5632.000000\n"
     ]
    }
   ],
   "source": [
    "# YOLOv5m\n",
    "run_predictions(image_dir, f'{models_dir}/yolov5mu.pt', 0.5, [15])"
   ]
  },
  {
   "cell_type": "code",
   "execution_count": 7,
   "metadata": {
    "id": "ZNkVjM0V-U91"
   },
   "outputs": [
    {
     "name": "stdout",
     "output_type": "stream",
     "text": [
      "   filename  confidence   x1    y1    x2    y2\n",
      "0  cat1.jpg    0.907950    0  1199  2561  4105\n",
      "1  cat2.png    0.755660   11     0   528   498\n",
      "2  cat3.jpg    0.878197   10    19  2475  2895\n",
      "3  cat4.jpg    0.884900  201   162   723   864\n",
      "4  cat5.jpg    0.811344    1   401  3466  5214\n",
      "5  cat6.jpg    0.739979  837   412  3097  3350\n",
      "6  cat7.jpg    0.779539    2  1864  3101  4923\n",
      "7  cat8.jpg    0.867639  467  1285  2205  3663\n",
      "8  cat9.jpg    0.804066  594  1295  1071  2113\n",
      "\n",
      "       confidence          x1           y1           x2           y2\n",
      "count    9.000000    9.000000     9.000000     9.000000     9.000000\n",
      "mean     0.825475  235.888889   737.444444  2136.333333  3069.444444\n",
      "std      0.061077  318.458963   680.356361  1097.748263  1656.793221\n",
      "min      0.739979    0.000000     0.000000   528.000000   498.000000\n",
      "25%      0.779539    2.000000   162.000000  1071.000000  2113.000000\n",
      "50%      0.811344   11.000000   412.000000  2475.000000  3350.000000\n",
      "75%      0.878197  467.000000  1285.000000  3097.000000  4105.000000\n",
      "max      0.907950  837.000000  1864.000000  3466.000000  5214.000000\n"
     ]
    }
   ],
   "source": [
    "# YOLOv8n\n",
    "run_predictions(image_dir, f'{models_dir}/yolov8n.pt', 0.5, [15])"
   ]
  },
  {
   "cell_type": "code",
   "execution_count": 13,
   "metadata": {},
   "outputs": [
    {
     "name": "stdout",
     "output_type": "stream",
     "text": [
      "     filename  confidence   x1    y1    x2    y2\n",
      "0  calico.jpg    0.937597    5  1165  2570  4110\n",
      "1   mimi1.jpg    0.893053   12  3972  2886  5623\n",
      "2   mimi1.jpg    0.818703  193  1581  2766  4570\n",
      "3   mimi2.jpg    0.879620    7   422  3361  5604\n",
      "4   mimi3.jpg    0.000000    0     0     0     0\n",
      "5   oyen1.jpg    0.000000    0     0     0     0\n",
      "6   oyen2.jpg    0.898160    2  1867  3169  4602\n",
      "\n",
      "       confidence          x1           y1           x2           y2\n",
      "count    7.000000    7.000000     7.000000     7.000000     7.000000\n",
      "mean     0.632448   31.285714  1286.714286  2107.428571  3501.285714\n",
      "std      0.433474   71.436952  1396.895810  1462.574654  2455.108193\n",
      "min      0.000000    0.000000     0.000000     0.000000     0.000000\n",
      "25%      0.409352    1.000000   211.000000  1285.000000  2055.000000\n",
      "50%      0.879620    5.000000  1165.000000  2766.000000  4570.000000\n",
      "75%      0.895607    9.500000  1724.000000  3027.500000  5103.000000\n",
      "max      0.937597  193.000000  3972.000000  3361.000000  5623.000000\n"
     ]
    }
   ],
   "source": [
    "# YOLOv8s\n",
    "run_predictions(image_dir, f'{models_dir}/yolov8s.pt', 0.5, [15])"
   ]
  },
  {
   "cell_type": "code",
   "execution_count": 14,
   "metadata": {},
   "outputs": [
    {
     "name": "stdout",
     "output_type": "stream",
     "text": [
      "     filename  confidence   x1    y1    x2    y2\n",
      "0  calico.jpg    0.946082    1  1252  2571  4101\n",
      "1   mimi1.jpg    0.942057    2  1519  2897  5620\n",
      "2   mimi2.jpg    0.949120    8   403  3425  5620\n",
      "3   mimi3.jpg    0.000000    0     0     0     0\n",
      "4   oyen1.jpg    0.717511  795   393  3112  3344\n",
      "5   oyen2.jpg    0.940227    6  1871  3185  5187\n",
      "\n",
      "       confidence          x1           y1           x2           y2\n",
      "count    6.000000    6.000000     6.000000     6.000000     6.000000\n",
      "mean     0.749166  135.333333   906.333333  2531.666667  3978.666667\n",
      "std      0.378079  323.183952   743.468000  1273.265670  2149.212662\n",
      "min      0.000000    0.000000     0.000000     0.000000     0.000000\n",
      "25%      0.773190    1.250000   395.500000  2652.500000  3533.250000\n",
      "50%      0.941142    4.000000   827.500000  3004.500000  4644.000000\n",
      "75%      0.945075    7.500000  1452.250000  3166.750000  5511.750000\n",
      "max      0.949120  795.000000  1871.000000  3425.000000  5620.000000\n"
     ]
    }
   ],
   "source": [
    "# YOLOv8m\n",
    "run_predictions(image_dir, f'{models_dir}/yolov8m.pt', 0.5, [15])"
   ]
  },
  {
   "cell_type": "code",
   "execution_count": 15,
   "metadata": {},
   "outputs": [
    {
     "name": "stdout",
     "output_type": "stream",
     "text": [
      "     filename  confidence   x1    y1    x2    y2\n",
      "0  calico.jpg    0.945395    1  1211  2567  4110\n",
      "1   mimi1.jpg    0.833620    0  1514  2893  5623\n",
      "2   mimi2.jpg    0.966177    3   415  3422  5623\n",
      "3   mimi3.jpg    0.000000    0     0     0     0\n",
      "4   oyen1.jpg    0.907312  794   383  3099  3341\n",
      "5   oyen2.jpg    0.954416    2  1873  3141  5229\n",
      "\n",
      "       confidence          x1           y1           x2           y2\n",
      "count    6.000000    6.000000     6.000000     6.000000     6.000000\n",
      "mean     0.767820  133.333333   899.333333  2520.333333  3987.666667\n",
      "std      0.379218  323.661346   739.318245  1266.982504  2155.187571\n",
      "min      0.000000    0.000000     0.000000     0.000000     0.000000\n",
      "25%      0.852043    0.250000   391.000000  2648.500000  3533.250000\n",
      "50%      0.926354    1.500000   813.000000  2996.000000  4669.500000\n",
      "75%      0.952161    2.750000  1438.250000  3130.500000  5524.500000\n",
      "max      0.966177  794.000000  1873.000000  3422.000000  5623.000000\n"
     ]
    }
   ],
   "source": [
    "# YOLOv8l\n",
    "run_predictions(image_dir, f'{models_dir}/yolov8l.pt', 0.5, [15])"
   ]
  },
  {
   "cell_type": "code",
   "execution_count": 16,
   "metadata": {},
   "outputs": [
    {
     "name": "stdout",
     "output_type": "stream",
     "text": [
      "     filename  confidence   x1    y1    x2    y2\n",
      "0  calico.jpg    0.960696    3  1163  2562  4111\n",
      "1   mimi1.jpg    0.869218    0  1552  2810  4562\n",
      "2   mimi1.jpg    0.862480    3  3961  2895  5628\n",
      "3   mimi2.jpg    0.967796    5   408  3419  5623\n",
      "4   mimi3.jpg    0.000000    0     0     0     0\n",
      "5   oyen1.jpg    0.913291  794   404  3115  3341\n",
      "6   oyen2.jpg    0.963129    2  1872  3208  5205\n",
      "\n",
      "       confidence          x1           y1           x2           y2\n",
      "count    7.000000    7.000000     7.000000     7.000000     7.000000\n",
      "mean     0.790944  115.285714  1337.142857  2572.714286  4067.142857\n",
      "std      0.351555  299.290112  1339.726394  1168.546635  1977.684962\n",
      "min      0.000000    0.000000     0.000000     0.000000     0.000000\n",
      "25%      0.865849    1.000000   406.000000  2686.000000  3726.000000\n",
      "50%      0.913291    3.000000  1163.000000  2895.000000  4562.000000\n",
      "75%      0.961912    4.000000  1712.000000  3161.500000  5414.000000\n",
      "max      0.967796  794.000000  3961.000000  3419.000000  5628.000000\n"
     ]
    }
   ],
   "source": [
    "# YOLOv8x\n",
    "run_predictions(image_dir, f'{models_dir}/yolov8x.pt', 0.5, [15])"
   ]
  },
  {
   "cell_type": "markdown",
   "metadata": {},
   "source": [
    "# Export"
   ]
  },
  {
   "cell_type": "code",
   "execution_count": 30,
   "metadata": {},
   "outputs": [
    {
     "name": "stdout",
     "output_type": "stream",
     "text": [
      "Ultralytics YOLOv8.2.84  Python-3.12.4 torch-2.4.0+cu124 CPU (Intel Core(TM) i7-1065G7 1.30GHz)\n",
      "YOLOv8n summary (fused): 168 layers, 3,151,904 parameters, 0 gradients, 8.7 GFLOPs\n",
      "\n",
      "\u001b[34m\u001b[1mPyTorch:\u001b[0m starting from '..\\models\\yolov8n.pt' with input shape (1, 3, 640, 640) BCHW and output shape(s) (1, 84, 8400) (6.2 MB)\n",
      "\n",
      "\u001b[34m\u001b[1mTensorFlow SavedModel:\u001b[0m starting export with tensorflow 2.17.0...\n",
      "\n",
      "\u001b[34m\u001b[1mONNX:\u001b[0m starting export with onnx 1.16.2 opset 19...\n",
      "\u001b[34m\u001b[1mONNX:\u001b[0m slimming with onnxslim 0.1.32...\n",
      "\u001b[34m\u001b[1mONNX:\u001b[0m export success  3.9s, saved as '..\\models\\yolov8n.onnx' (12.3 MB)\n",
      "\u001b[34m\u001b[1mTensorFlow SavedModel:\u001b[0m starting TFLite export with onnx2tf 1.25.9...\n",
      "\u001b[34m\u001b[1mTensorFlow SavedModel:\u001b[0m export success  33.5s, saved as '..\\models\\yolov8n_saved_model' (31.5 MB)\n",
      "\n",
      "\u001b[34m\u001b[1mTensorFlow Lite:\u001b[0m starting export with tensorflow 2.17.0...\n",
      "\u001b[34m\u001b[1mTensorFlow Lite:\u001b[0m export success  0.0s, saved as '..\\models\\yolov8n_saved_model\\yolov8n_float32.tflite' (12.3 MB)\n",
      "\n",
      "Export complete (39.9s)\n",
      "Results saved to \u001b[1mC:\\Users\\wztho\\Desktop\\College Folder\\Degree\\Semester 4 (AUG2024)\\6001CEM Individual Project\\emeowtions-ml\\models\u001b[0m\n",
      "Predict:         yolo predict task=detect model=..\\models\\yolov8n_saved_model\\yolov8n_float32.tflite imgsz=640  \n",
      "Validate:        yolo val task=detect model=..\\models\\yolov8n_saved_model\\yolov8n_float32.tflite imgsz=640 data=coco.yaml  \n",
      "Visualize:       https://netron.app\n"
     ]
    },
    {
     "data": {
      "text/plain": [
       "'..\\\\models\\\\yolov8n_saved_model\\\\yolov8n_float32.tflite'"
      ]
     },
     "execution_count": 30,
     "metadata": {},
     "output_type": "execute_result"
    }
   ],
   "source": [
    "model = YOLO(f'{models_dir}/yolov8n.pt')\n",
    "model.export(format='tflite')"
   ]
  }
 ],
 "metadata": {
  "accelerator": "GPU",
  "colab": {
   "gpuType": "T4",
   "provenance": []
  },
  "kernelspec": {
   "display_name": "venv",
   "language": "python",
   "name": "python3"
  },
  "language_info": {
   "codemirror_mode": {
    "name": "ipython",
    "version": 3
   },
   "file_extension": ".py",
   "mimetype": "text/x-python",
   "name": "python",
   "nbconvert_exporter": "python",
   "pygments_lexer": "ipython3",
   "version": "3.12.4"
  }
 },
 "nbformat": 4,
 "nbformat_minor": 4
}
