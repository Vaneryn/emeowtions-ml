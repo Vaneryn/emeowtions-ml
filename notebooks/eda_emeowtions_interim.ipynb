{
 "cells": [
  {
   "cell_type": "markdown",
   "metadata": {},
   "source": [
    "# Import Libraries"
   ]
  },
  {
   "cell_type": "code",
   "execution_count": 1,
   "metadata": {},
   "outputs": [],
   "source": [
    "import json\n",
    "import os\n",
    "import matplotlib.pyplot as plt\n",
    "import pandas as pd\n",
    "import seaborn as sns\n",
    "from PIL import Image"
   ]
  },
  {
   "cell_type": "markdown",
   "metadata": {},
   "source": [
    "# Load Dataset"
   ]
  },
  {
   "cell_type": "code",
   "execution_count": 3,
   "metadata": {},
   "outputs": [],
   "source": [
    "# Dataset path\n",
    "dataset_dir = '../data/interim'\n",
    "\n",
    "# Class paths\n",
    "angry_dir = f'{dataset_dir}/angry'\n",
    "happy_dir = f'{dataset_dir}/happy'\n",
    "neutral_dir = f'{dataset_dir}/neutral'\n",
    "scared_dir = f'{dataset_dir}/scared'"
   ]
  },
  {
   "cell_type": "markdown",
   "metadata": {},
   "source": [
    "# Summary"
   ]
  },
  {
   "cell_type": "markdown",
   "metadata": {},
   "source": [
    "List of classes and subclasses"
   ]
  },
  {
   "cell_type": "code",
   "execution_count": 4,
   "metadata": {},
   "outputs": [
    {
     "name": "stdout",
     "output_type": "stream",
     "text": [
      "Classes:  angry happy labels.txt neutral scared\n",
      "\n",
      "Subclasses: \n",
      "1. angry\n",
      "ears_flat_angry\n",
      "mouth_fangs\n",
      "\n",
      "2. happy\n",
      "eyes_narrowed\n",
      "posture_exposed_belly\n",
      "posture_stretch\n",
      "tail_up\n",
      "\n",
      "3. neutral\n",
      "ears_up\n",
      "eyes_small_pupils\n",
      "posture_normal\n",
      "\n",
      "4. scared\n",
      "ears_flat\n",
      "eyes_large_pupils\n",
      "posture_arched_back\n",
      "posture_small\n",
      "tail_tucked\n"
     ]
    }
   ],
   "source": [
    "class_list = os.listdir(dataset_dir)\n",
    "\n",
    "angry_list = os.listdir(angry_dir)\n",
    "happy_list = os.listdir(happy_dir)\n",
    "neutral_list = os.listdir(neutral_dir)\n",
    "scared_list = os.listdir(scared_dir)\n",
    "\n",
    "print('Classes: ', *class_list)\n",
    "\n",
    "print('\\nSubclasses: ')\n",
    "print('1. angry', *angry_list, sep='\\n')\n",
    "print('\\n2. happy', *happy_list, sep='\\n')\n",
    "print('\\n3. neutral', *neutral_list, sep='\\n')\n",
    "print('\\n4. scared', *scared_list, sep='\\n')"
   ]
  },
  {
   "cell_type": "markdown",
   "metadata": {},
   "source": [
    "Number of classes, subclasses, and images"
   ]
  },
  {
   "cell_type": "code",
   "execution_count": 11,
   "metadata": {},
   "outputs": [
    {
     "name": "stdout",
     "output_type": "stream",
     "text": [
      "Number of classes: 5\n",
      "Number of subclasses: 14\n",
      "Total number of images: 1068\n",
      "Number of images per subclass: \n",
      "{\n",
      "  \"angry\": {\n",
      "    \"ears_flat_angry\": 1,\n",
      "    \"mouth_fangs\": 165\n",
      "  },\n",
      "  \"happy\": {\n",
      "    \"eyes_narrowed\": 105,\n",
      "    \"posture_exposed_belly\": 129,\n",
      "    \"posture_stretch\": 100,\n",
      "    \"tail_up\": 112\n",
      "  },\n",
      "  \"neutral\": {\n",
      "    \"ears_up\": 0,\n",
      "    \"eyes_small_pupils\": 150,\n",
      "    \"posture_normal\": 0\n",
      "  },\n",
      "  \"scared\": {\n",
      "    \"ears_flat\": 51,\n",
      "    \"eyes_large_pupils\": 153,\n",
      "    \"posture_arched_back\": 102,\n",
      "    \"posture_small\": 0,\n",
      "    \"tail_tucked\": 0\n",
      "  }\n",
      "}\n"
     ]
    }
   ],
   "source": [
    "# Number of classes\n",
    "num_classes = len(os.listdir(dataset_dir))\n",
    "\n",
    "# Number of subclasses\n",
    "num_angry_subclasses = len(os.listdir(angry_dir))\n",
    "num_happy_subclasses = len(os.listdir(happy_dir))\n",
    "num_neutral_subclasses = len(os.listdir(neutral_dir))\n",
    "num_scared_subclasses = len(os.listdir(scared_dir))\n",
    "num_subclasses = num_angry_subclasses + num_happy_subclasses + num_neutral_subclasses + num_scared_subclasses\n",
    "\n",
    "# Number of images\n",
    "total_images = 0\n",
    "subclass_images = {'angry': {}, 'happy': {}, 'neutral': {}, 'scared': {}}\n",
    "\n",
    "for dir_name in os.listdir(angry_dir):\n",
    "    subdir = os.path.join(angry_dir, dir_name)\n",
    "    num_images = len(os.listdir(subdir))\n",
    "    total_images += num_images\n",
    "    subclass_images['angry'].update({dir_name: num_images})\n",
    "\n",
    "for dir_name in os.listdir(happy_dir):\n",
    "    subdir = os.path.join(happy_dir, dir_name)\n",
    "    num_images = len(os.listdir(subdir))\n",
    "    total_images += num_images\n",
    "    subclass_images['happy'].update({dir_name: num_images})\n",
    "\n",
    "for dir_name in os.listdir(neutral_dir):\n",
    "    subdir = os.path.join(neutral_dir, dir_name)\n",
    "    num_images = len(os.listdir(subdir))\n",
    "    total_images += num_images\n",
    "    subclass_images['neutral'].update({dir_name: num_images})\n",
    "\n",
    "for dir_name in os.listdir(scared_dir):\n",
    "    subdir = os.path.join(scared_dir, dir_name)\n",
    "    num_images = len(os.listdir(subdir))\n",
    "    total_images += num_images\n",
    "    subclass_images['scared'].update({dir_name: num_images})\n",
    "\n",
    "\n",
    "print('Number of classes:', num_classes)\n",
    "print('Number of subclasses:', num_subclasses)\n",
    "\n",
    "print('Total number of images:', total_images)\n",
    "print('Number of images per subclass: ')\n",
    "print(json.dumps(subclass_images, indent=2))"
   ]
  },
  {
   "cell_type": "markdown",
   "metadata": {},
   "source": [
    "Rename files"
   ]
  },
  {
   "cell_type": "code",
   "execution_count": 8,
   "metadata": {},
   "outputs": [],
   "source": [
    "def rename_files(directory, prefix):\n",
    "    # Get a list of all files in the directory\n",
    "    files = os.listdir(directory)\n",
    "\n",
    "    # Sort files to ensure renaming happens in the desired order\n",
    "    files.sort()\n",
    "\n",
    "    # Loop through the files and rename them with a prefix and counter\n",
    "    for i, filename in enumerate(files, 1):\n",
    "        # Get the file extension\n",
    "        file_extension = os.path.splitext(filename)[1]\n",
    "        \n",
    "        # Create the new filename with the prefix and counter\n",
    "        new_name = f\"{prefix}_{i}{file_extension}\"\n",
    "        \n",
    "        # Create the full paths for the current and new filename\n",
    "        src = os.path.join(directory, filename)\n",
    "        dst = os.path.join(directory, new_name)\n",
    "\n",
    "        # Rename the file\n",
    "        os.rename(src, dst)\n",
    "        print(f\"Renamed {filename} to {new_name}\")"
   ]
  },
  {
   "cell_type": "code",
   "execution_count": 15,
   "metadata": {},
   "outputs": [
    {
     "name": "stdout",
     "output_type": "stream",
     "text": [
      "Renamed test_1.jpg to posture_arched_back_1.jpg\n",
      "Renamed test_10.jpg to posture_arched_back_2.jpg\n",
      "Renamed test_100.jpg to posture_arched_back_3.jpg\n",
      "Renamed test_101.jpg to posture_arched_back_4.jpg\n",
      "Renamed test_102.jpg to posture_arched_back_5.jpg\n",
      "Renamed test_11.jpg to posture_arched_back_6.jpg\n",
      "Renamed test_12.jpg to posture_arched_back_7.jpg\n",
      "Renamed test_13.jpg to posture_arched_back_8.jpg\n",
      "Renamed test_14.jpg to posture_arched_back_9.jpg\n",
      "Renamed test_15.jpg to posture_arched_back_10.jpg\n",
      "Renamed test_16.jpg to posture_arched_back_11.jpg\n",
      "Renamed test_17.jpg to posture_arched_back_12.jpg\n",
      "Renamed test_18.jpg to posture_arched_back_13.jpg\n",
      "Renamed test_19.jpg to posture_arched_back_14.jpg\n",
      "Renamed test_2.jpg to posture_arched_back_15.jpg\n",
      "Renamed test_20.jpg to posture_arched_back_16.jpg\n",
      "Renamed test_21.jpg to posture_arched_back_17.jpg\n",
      "Renamed test_22.jpg to posture_arched_back_18.jpg\n",
      "Renamed test_23.jpg to posture_arched_back_19.jpg\n",
      "Renamed test_24.jpg to posture_arched_back_20.jpg\n",
      "Renamed test_25.jpg to posture_arched_back_21.jpg\n",
      "Renamed test_26.jpg to posture_arched_back_22.jpg\n",
      "Renamed test_27.jpg to posture_arched_back_23.jpg\n",
      "Renamed test_28.jpg to posture_arched_back_24.jpg\n",
      "Renamed test_29.jpg to posture_arched_back_25.jpg\n",
      "Renamed test_3.jpg to posture_arched_back_26.jpg\n",
      "Renamed test_30.jpg to posture_arched_back_27.jpg\n",
      "Renamed test_31.jpg to posture_arched_back_28.jpg\n",
      "Renamed test_32.jpg to posture_arched_back_29.jpg\n",
      "Renamed test_33.jpg to posture_arched_back_30.jpg\n",
      "Renamed test_34.jpg to posture_arched_back_31.jpg\n",
      "Renamed test_35.jpg to posture_arched_back_32.jpg\n",
      "Renamed test_36.jpg to posture_arched_back_33.jpg\n",
      "Renamed test_37.jpg to posture_arched_back_34.jpg\n",
      "Renamed test_38.jpg to posture_arched_back_35.jpg\n",
      "Renamed test_39.jpg to posture_arched_back_36.jpg\n",
      "Renamed test_4.jpg to posture_arched_back_37.jpg\n",
      "Renamed test_40.jpg to posture_arched_back_38.jpg\n",
      "Renamed test_41.jpg to posture_arched_back_39.jpg\n",
      "Renamed test_42.jpg to posture_arched_back_40.jpg\n",
      "Renamed test_43.jpg to posture_arched_back_41.jpg\n",
      "Renamed test_44.jpg to posture_arched_back_42.jpg\n",
      "Renamed test_45.jpg to posture_arched_back_43.jpg\n",
      "Renamed test_46.jpg to posture_arched_back_44.jpg\n",
      "Renamed test_47.jpg to posture_arched_back_45.jpg\n",
      "Renamed test_48.jpg to posture_arched_back_46.jpg\n",
      "Renamed test_49.jpg to posture_arched_back_47.jpg\n",
      "Renamed test_5.jpg to posture_arched_back_48.jpg\n",
      "Renamed test_50.jpg to posture_arched_back_49.jpg\n",
      "Renamed test_51.jpg to posture_arched_back_50.jpg\n",
      "Renamed test_52.jpg to posture_arched_back_51.jpg\n",
      "Renamed test_53.jpg to posture_arched_back_52.jpg\n",
      "Renamed test_54.jpg to posture_arched_back_53.jpg\n",
      "Renamed test_55.jpg to posture_arched_back_54.jpg\n",
      "Renamed test_56.jpg to posture_arched_back_55.jpg\n",
      "Renamed test_57.jpg to posture_arched_back_56.jpg\n",
      "Renamed test_58.jpg to posture_arched_back_57.jpg\n",
      "Renamed test_59.jpg to posture_arched_back_58.jpg\n",
      "Renamed test_6.jpg to posture_arched_back_59.jpg\n",
      "Renamed test_60.jpg to posture_arched_back_60.jpg\n",
      "Renamed test_61.jpg to posture_arched_back_61.jpg\n",
      "Renamed test_62.jpg to posture_arched_back_62.jpg\n",
      "Renamed test_63.jpg to posture_arched_back_63.jpg\n",
      "Renamed test_64.jpg to posture_arched_back_64.jpg\n",
      "Renamed test_65.jpg to posture_arched_back_65.jpg\n",
      "Renamed test_66.jpg to posture_arched_back_66.jpg\n",
      "Renamed test_67.jpg to posture_arched_back_67.jpg\n",
      "Renamed test_68.jpg to posture_arched_back_68.jpg\n",
      "Renamed test_69.jpg to posture_arched_back_69.jpg\n",
      "Renamed test_7.jpg to posture_arched_back_70.jpg\n",
      "Renamed test_70.jpg to posture_arched_back_71.jpg\n",
      "Renamed test_71.jpg to posture_arched_back_72.jpg\n",
      "Renamed test_72.jpg to posture_arched_back_73.jpg\n",
      "Renamed test_73.jpg to posture_arched_back_74.jpg\n",
      "Renamed test_74.jpg to posture_arched_back_75.jpg\n",
      "Renamed test_75.jpg to posture_arched_back_76.jpg\n",
      "Renamed test_76.jpg to posture_arched_back_77.jpg\n",
      "Renamed test_77.jpg to posture_arched_back_78.jpg\n",
      "Renamed test_78.jpg to posture_arched_back_79.jpg\n",
      "Renamed test_79.jpg to posture_arched_back_80.jpg\n",
      "Renamed test_8.jpg to posture_arched_back_81.jpg\n",
      "Renamed test_80.jpg to posture_arched_back_82.jpg\n",
      "Renamed test_81.jpg to posture_arched_back_83.jpg\n",
      "Renamed test_82.jpg to posture_arched_back_84.jpg\n",
      "Renamed test_83.jpg to posture_arched_back_85.jpg\n",
      "Renamed test_84.jpg to posture_arched_back_86.jpg\n",
      "Renamed test_85.jpg to posture_arched_back_87.jpg\n",
      "Renamed test_86.jpg to posture_arched_back_88.jpg\n",
      "Renamed test_87.jpg to posture_arched_back_89.jpg\n",
      "Renamed test_88.jpg to posture_arched_back_90.jpg\n",
      "Renamed test_89.jpg to posture_arched_back_91.jpg\n",
      "Renamed test_9.jpg to posture_arched_back_92.jpg\n",
      "Renamed test_90.jpg to posture_arched_back_93.jpg\n",
      "Renamed test_91.jpg to posture_arched_back_94.jpg\n",
      "Renamed test_92.jpg to posture_arched_back_95.jpg\n",
      "Renamed test_93.jpg to posture_arched_back_96.jpg\n",
      "Renamed test_94.jpg to posture_arched_back_97.jpg\n",
      "Renamed test_95.jpg to posture_arched_back_98.jpg\n",
      "Renamed test_96.jpg to posture_arched_back_99.jpg\n",
      "Renamed test_97.jpg to posture_arched_back_100.jpg\n",
      "Renamed test_98.jpg to posture_arched_back_101.jpg\n",
      "Renamed test_99.jpg to posture_arched_back_102.jpg\n"
     ]
    }
   ],
   "source": [
    "# Usage\n",
    "directory = \"../data/interim/scared/posture_arched_back\"\n",
    "prefix = \"posture_arched_back\"\n",
    "rename_files(directory, prefix)"
   ]
  },
  {
   "cell_type": "code",
   "execution_count": null,
   "metadata": {},
   "outputs": [],
   "source": []
  }
 ],
 "metadata": {
  "kernelspec": {
   "display_name": "venv",
   "language": "python",
   "name": "python3"
  },
  "language_info": {
   "codemirror_mode": {
    "name": "ipython",
    "version": 3
   },
   "file_extension": ".py",
   "mimetype": "text/x-python",
   "name": "python",
   "nbconvert_exporter": "python",
   "pygments_lexer": "ipython3",
   "version": "3.12.4"
  }
 },
 "nbformat": 4,
 "nbformat_minor": 2
}
