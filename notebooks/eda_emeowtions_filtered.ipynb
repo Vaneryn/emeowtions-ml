{
 "cells": [
  {
   "cell_type": "markdown",
   "metadata": {},
   "source": [
    "# Import Libraries"
   ]
  },
  {
   "cell_type": "code",
   "execution_count": 1,
   "metadata": {},
   "outputs": [],
   "source": [
    "import json\n",
    "import os\n",
    "import matplotlib.pyplot as plt\n",
    "import pandas as pd\n",
    "import seaborn as sns\n",
    "from PIL import Image"
   ]
  },
  {
   "cell_type": "markdown",
   "metadata": {},
   "source": [
    "# Load Dataset"
   ]
  },
  {
   "cell_type": "code",
   "execution_count": 3,
   "metadata": {},
   "outputs": [],
   "source": [
    "# Dataset path\n",
    "dataset_dir = '../data/interim'\n",
    "\n",
    "# Class paths\n",
    "angry_dir = f'{dataset_dir}/angry'\n",
    "happy_dir = f'{dataset_dir}/happy'\n",
    "neutral_dir = f'{dataset_dir}/neutral'\n",
    "scared_dir = f'{dataset_dir}/scared'"
   ]
  },
  {
   "cell_type": "markdown",
   "metadata": {},
   "source": [
    "# Summary"
   ]
  },
  {
   "cell_type": "markdown",
   "metadata": {},
   "source": [
    "List of classes and subclasses"
   ]
  },
  {
   "cell_type": "code",
   "execution_count": 4,
   "metadata": {},
   "outputs": [
    {
     "name": "stdout",
     "output_type": "stream",
     "text": [
      "Classes:  angry happy labels.txt neutral scared\n",
      "\n",
      "Subclasses: \n",
      "1. angry\n",
      "ears_flat_angry\n",
      "mouth_fangs\n",
      "\n",
      "2. happy\n",
      "eyes_narrowed\n",
      "posture_exposed_belly\n",
      "posture_stretch\n",
      "tail_up\n",
      "\n",
      "3. neutral\n",
      "ears_up\n",
      "eyes_small_pupils\n",
      "posture_normal\n",
      "\n",
      "4. scared\n",
      "ears_flat\n",
      "eyes_large_pupils\n",
      "posture_arched_back\n",
      "posture_small\n",
      "tail_tucked\n"
     ]
    }
   ],
   "source": [
    "class_list = os.listdir(dataset_dir)\n",
    "\n",
    "angry_list = os.listdir(angry_dir)\n",
    "happy_list = os.listdir(happy_dir)\n",
    "neutral_list = os.listdir(neutral_dir)\n",
    "scared_list = os.listdir(scared_dir)\n",
    "\n",
    "print('Classes: ', *class_list)\n",
    "\n",
    "print('\\nSubclasses: ')\n",
    "print('1. angry', *angry_list, sep='\\n')\n",
    "print('\\n2. happy', *happy_list, sep='\\n')\n",
    "print('\\n3. neutral', *neutral_list, sep='\\n')\n",
    "print('\\n4. scared', *scared_list, sep='\\n')"
   ]
  },
  {
   "cell_type": "markdown",
   "metadata": {},
   "source": [
    "Number of classes, subclasses, and images"
   ]
  },
  {
   "cell_type": "code",
   "execution_count": 21,
   "metadata": {},
   "outputs": [
    {
     "name": "stdout",
     "output_type": "stream",
     "text": [
      "Number of classes: 5\n",
      "Number of subclasses: 14\n",
      "Total number of images: 1130\n",
      "Number of images per subclass: \n",
      "{\n",
      "  \"angry\": {\n",
      "    \"ears_flat_angry\": 1,\n",
      "    \"mouth_fangs\": 165\n",
      "  },\n",
      "  \"happy\": {\n",
      "    \"eyes_narrowed\": 165,\n",
      "    \"posture_exposed_belly\": 129,\n",
      "    \"posture_stretch\": 102,\n",
      "    \"tail_up\": 112\n",
      "  },\n",
      "  \"neutral\": {\n",
      "    \"ears_up\": 0,\n",
      "    \"eyes_small_pupils\": 150,\n",
      "    \"posture_normal\": 0\n",
      "  },\n",
      "  \"scared\": {\n",
      "    \"ears_flat\": 51,\n",
      "    \"eyes_large_pupils\": 153,\n",
      "    \"posture_arched_back\": 102,\n",
      "    \"posture_small\": 0,\n",
      "    \"tail_tucked\": 0\n",
      "  }\n",
      "}\n"
     ]
    }
   ],
   "source": [
    "# Number of classes\n",
    "num_classes = len(os.listdir(dataset_dir))\n",
    "\n",
    "# Number of subclasses\n",
    "num_angry_subclasses = len(os.listdir(angry_dir))\n",
    "num_happy_subclasses = len(os.listdir(happy_dir))\n",
    "num_neutral_subclasses = len(os.listdir(neutral_dir))\n",
    "num_scared_subclasses = len(os.listdir(scared_dir))\n",
    "num_subclasses = num_angry_subclasses + num_happy_subclasses + num_neutral_subclasses + num_scared_subclasses\n",
    "\n",
    "# Number of images\n",
    "total_images = 0\n",
    "subclass_images = {'angry': {}, 'happy': {}, 'neutral': {}, 'scared': {}}\n",
    "\n",
    "for dir_name in os.listdir(angry_dir):\n",
    "    subdir = os.path.join(angry_dir, dir_name)\n",
    "    num_images = len(os.listdir(subdir))\n",
    "    total_images += num_images\n",
    "    subclass_images['angry'].update({dir_name: num_images})\n",
    "\n",
    "for dir_name in os.listdir(happy_dir):\n",
    "    subdir = os.path.join(happy_dir, dir_name)\n",
    "    num_images = len(os.listdir(subdir))\n",
    "    total_images += num_images\n",
    "    subclass_images['happy'].update({dir_name: num_images})\n",
    "\n",
    "for dir_name in os.listdir(neutral_dir):\n",
    "    subdir = os.path.join(neutral_dir, dir_name)\n",
    "    num_images = len(os.listdir(subdir))\n",
    "    total_images += num_images\n",
    "    subclass_images['neutral'].update({dir_name: num_images})\n",
    "\n",
    "for dir_name in os.listdir(scared_dir):\n",
    "    subdir = os.path.join(scared_dir, dir_name)\n",
    "    num_images = len(os.listdir(subdir))\n",
    "    total_images += num_images\n",
    "    subclass_images['scared'].update({dir_name: num_images})\n",
    "\n",
    "\n",
    "print('Number of classes:', num_classes)\n",
    "print('Number of subclasses:', num_subclasses)\n",
    "\n",
    "print('Total number of images:', total_images)\n",
    "print('Number of images per subclass: ')\n",
    "print(json.dumps(subclass_images, indent=2))"
   ]
  }
 ],
 "metadata": {
  "kernelspec": {
   "display_name": "venv",
   "language": "python",
   "name": "python3"
  },
  "language_info": {
   "codemirror_mode": {
    "name": "ipython",
    "version": 3
   },
   "file_extension": ".py",
   "mimetype": "text/x-python",
   "name": "python",
   "nbconvert_exporter": "python",
   "pygments_lexer": "ipython3",
   "version": "3.12.4"
  }
 },
 "nbformat": 4,
 "nbformat_minor": 2
}
